{
  "nbformat": 4,
  "nbformat_minor": 0,
  "metadata": {
    "colab": {
      "name": "t-SNE (Amazon fine food review).ipynb",
      "version": "0.3.2",
      "provenance": [],
      "include_colab_link": true
    },
    "kernelspec": {
      "display_name": "Python 3",
      "language": "python",
      "name": "python3"
    }
  },
  "cells": [
    {
      "cell_type": "markdown",
      "metadata": {
        "id": "view-in-github",
        "colab_type": "text"
      },
      "source": [
        "<a href=\"https://colab.research.google.com/github/sumitthakur24/ML/blob/master/t_SNE_(Amazon_fine_food_review).ipynb\" target=\"_parent\"><img src=\"https://colab.research.google.com/assets/colab-badge.svg\" alt=\"Open In Colab\"/></a>"
      ]
    },
    {
      "metadata": {
        "id": "bLasClgY9aK_",
        "colab_type": "text"
      },
      "cell_type": "markdown",
      "source": [
        "# AMAZON FINE FOOD(using t-SNE)"
      ]
    },
    {
      "metadata": {
        "id": "dvWW6avF9aLB",
        "colab_type": "text"
      },
      "cell_type": "markdown",
      "source": [
        "### Objective:\n",
        "To determine the review polarity using color coding"
      ]
    },
    {
      "metadata": {
        "id": "i9w7wHmc9aLD",
        "colab_type": "code",
        "colab": {}
      },
      "cell_type": "code",
      "source": [
        "%matplotlib inline\n",
        "import warnings\n",
        "warnings.filterwarnings(\"ignore\")\n",
        "\n",
        "import sqlite3\n",
        "import numpy as np\n",
        "import matplotlib.pyplot as plt\n",
        "import nltk\n",
        "import string\n",
        "import pandas as pd\n",
        "import seaborn as sns\n",
        "\n",
        "from sklearn.feature_extraction.text import TfidfTransformer\n",
        "from sklearn.feature_extraction.text import TfidfVectorizer\n",
        "from sklearn.feature_extraction.text import CountVectorizer\n",
        "\n",
        "from sklearn.metrics import confusion_matrix\n",
        "from sklearn import metrics\n",
        "from sklearn.metrics import roc_curve,auc\n",
        "from nltk.stem.porter import PorterStemmer"
      ],
      "execution_count": 0,
      "outputs": []
    },
    {
      "metadata": {
        "id": "zQgdg38y9aLH",
        "colab_type": "code",
        "colab": {}
      },
      "cell_type": "code",
      "source": [
        "#using sqlite to read data\n",
        "conn=sqlite3.connect(\"F:\\\\software\\\\py\\\\amazon food review\\\\database.sqlite\")"
      ],
      "execution_count": 0,
      "outputs": []
    },
    {
      "metadata": {
        "id": "FsDhcp8Q9aLL",
        "colab_type": "code",
        "colab": {},
        "outputId": "94361e4b-b870-44f6-c1c3-69762168f5e0"
      },
      "cell_type": "code",
      "source": [
        "filter_data=pd.read_sql_query(\"\"\"SELECT * FROM Reviews WHERE Score !=3\"\"\",conn)\n",
        "print(filter_data.shape)\n",
        "filter_data.head()"
      ],
      "execution_count": 0,
      "outputs": [
        {
          "output_type": "stream",
          "text": [
            "(525814, 10)\n"
          ],
          "name": "stdout"
        },
        {
          "output_type": "execute_result",
          "data": {
            "text/html": [
              "<div>\n",
              "<style scoped>\n",
              "    .dataframe tbody tr th:only-of-type {\n",
              "        vertical-align: middle;\n",
              "    }\n",
              "\n",
              "    .dataframe tbody tr th {\n",
              "        vertical-align: top;\n",
              "    }\n",
              "\n",
              "    .dataframe thead th {\n",
              "        text-align: right;\n",
              "    }\n",
              "</style>\n",
              "<table border=\"1\" class=\"dataframe\">\n",
              "  <thead>\n",
              "    <tr style=\"text-align: right;\">\n",
              "      <th></th>\n",
              "      <th>Id</th>\n",
              "      <th>ProductId</th>\n",
              "      <th>UserId</th>\n",
              "      <th>ProfileName</th>\n",
              "      <th>HelpfulnessNumerator</th>\n",
              "      <th>HelpfulnessDenominator</th>\n",
              "      <th>Score</th>\n",
              "      <th>Time</th>\n",
              "      <th>Summary</th>\n",
              "      <th>Text</th>\n",
              "    </tr>\n",
              "  </thead>\n",
              "  <tbody>\n",
              "    <tr>\n",
              "      <th>0</th>\n",
              "      <td>1</td>\n",
              "      <td>B001E4KFG0</td>\n",
              "      <td>A3SGXH7AUHU8GW</td>\n",
              "      <td>delmartian</td>\n",
              "      <td>1</td>\n",
              "      <td>1</td>\n",
              "      <td>5</td>\n",
              "      <td>1303862400</td>\n",
              "      <td>Good Quality Dog Food</td>\n",
              "      <td>I have bought several of the Vitality canned d...</td>\n",
              "    </tr>\n",
              "    <tr>\n",
              "      <th>1</th>\n",
              "      <td>2</td>\n",
              "      <td>B00813GRG4</td>\n",
              "      <td>A1D87F6ZCVE5NK</td>\n",
              "      <td>dll pa</td>\n",
              "      <td>0</td>\n",
              "      <td>0</td>\n",
              "      <td>1</td>\n",
              "      <td>1346976000</td>\n",
              "      <td>Not as Advertised</td>\n",
              "      <td>Product arrived labeled as Jumbo Salted Peanut...</td>\n",
              "    </tr>\n",
              "    <tr>\n",
              "      <th>2</th>\n",
              "      <td>3</td>\n",
              "      <td>B000LQOCH0</td>\n",
              "      <td>ABXLMWJIXXAIN</td>\n",
              "      <td>Natalia Corres \"Natalia Corres\"</td>\n",
              "      <td>1</td>\n",
              "      <td>1</td>\n",
              "      <td>4</td>\n",
              "      <td>1219017600</td>\n",
              "      <td>\"Delight\" says it all</td>\n",
              "      <td>This is a confection that has been around a fe...</td>\n",
              "    </tr>\n",
              "    <tr>\n",
              "      <th>3</th>\n",
              "      <td>4</td>\n",
              "      <td>B000UA0QIQ</td>\n",
              "      <td>A395BORC6FGVXV</td>\n",
              "      <td>Karl</td>\n",
              "      <td>3</td>\n",
              "      <td>3</td>\n",
              "      <td>2</td>\n",
              "      <td>1307923200</td>\n",
              "      <td>Cough Medicine</td>\n",
              "      <td>If you are looking for the secret ingredient i...</td>\n",
              "    </tr>\n",
              "    <tr>\n",
              "      <th>4</th>\n",
              "      <td>5</td>\n",
              "      <td>B006K2ZZ7K</td>\n",
              "      <td>A1UQRSCLF8GW1T</td>\n",
              "      <td>Michael D. Bigham \"M. Wassir\"</td>\n",
              "      <td>0</td>\n",
              "      <td>0</td>\n",
              "      <td>5</td>\n",
              "      <td>1350777600</td>\n",
              "      <td>Great taffy</td>\n",
              "      <td>Great taffy at a great price.  There was a wid...</td>\n",
              "    </tr>\n",
              "  </tbody>\n",
              "</table>\n",
              "</div>"
            ],
            "text/plain": [
              "   Id   ProductId          UserId                      ProfileName  \\\n",
              "0   1  B001E4KFG0  A3SGXH7AUHU8GW                       delmartian   \n",
              "1   2  B00813GRG4  A1D87F6ZCVE5NK                           dll pa   \n",
              "2   3  B000LQOCH0   ABXLMWJIXXAIN  Natalia Corres \"Natalia Corres\"   \n",
              "3   4  B000UA0QIQ  A395BORC6FGVXV                             Karl   \n",
              "4   5  B006K2ZZ7K  A1UQRSCLF8GW1T    Michael D. Bigham \"M. Wassir\"   \n",
              "\n",
              "   HelpfulnessNumerator  HelpfulnessDenominator  Score        Time  \\\n",
              "0                     1                       1      5  1303862400   \n",
              "1                     0                       0      1  1346976000   \n",
              "2                     1                       1      4  1219017600   \n",
              "3                     3                       3      2  1307923200   \n",
              "4                     0                       0      5  1350777600   \n",
              "\n",
              "                 Summary                                               Text  \n",
              "0  Good Quality Dog Food  I have bought several of the Vitality canned d...  \n",
              "1      Not as Advertised  Product arrived labeled as Jumbo Salted Peanut...  \n",
              "2  \"Delight\" says it all  This is a confection that has been around a fe...  \n",
              "3         Cough Medicine  If you are looking for the secret ingredient i...  \n",
              "4            Great taffy  Great taffy at a great price.  There was a wid...  "
            ]
          },
          "metadata": {
            "tags": []
          },
          "execution_count": 3
        }
      ]
    },
    {
      "metadata": {
        "id": "lpseIbNB9aLT",
        "colab_type": "code",
        "colab": {},
        "outputId": "9121c988-00aa-470d-d222-d58cd0eb4254"
      },
      "cell_type": "code",
      "source": [
        "# Give reviews with Score>3 a positive rating, and reviews with a score<3 a negative rating.\n",
        "def partition(x):\n",
        "    if x<3:\n",
        "        return 'negative'\n",
        "    else:\n",
        "        return 'positive'\n",
        "\n",
        "#changing score to <3 to neagtive and >3 to positive\n",
        "actual_score=filter_data['Score']\n",
        "pos_neg=actual_score.map(partition)\n",
        "filter_data['Score']=pos_neg\n",
        "print(filter_data.shape)\n",
        "filter_data.head()"
      ],
      "execution_count": 0,
      "outputs": [
        {
          "output_type": "stream",
          "text": [
            "(525814, 10)\n"
          ],
          "name": "stdout"
        },
        {
          "output_type": "execute_result",
          "data": {
            "text/html": [
              "<div>\n",
              "<style scoped>\n",
              "    .dataframe tbody tr th:only-of-type {\n",
              "        vertical-align: middle;\n",
              "    }\n",
              "\n",
              "    .dataframe tbody tr th {\n",
              "        vertical-align: top;\n",
              "    }\n",
              "\n",
              "    .dataframe thead th {\n",
              "        text-align: right;\n",
              "    }\n",
              "</style>\n",
              "<table border=\"1\" class=\"dataframe\">\n",
              "  <thead>\n",
              "    <tr style=\"text-align: right;\">\n",
              "      <th></th>\n",
              "      <th>Id</th>\n",
              "      <th>ProductId</th>\n",
              "      <th>UserId</th>\n",
              "      <th>ProfileName</th>\n",
              "      <th>HelpfulnessNumerator</th>\n",
              "      <th>HelpfulnessDenominator</th>\n",
              "      <th>Score</th>\n",
              "      <th>Time</th>\n",
              "      <th>Summary</th>\n",
              "      <th>Text</th>\n",
              "    </tr>\n",
              "  </thead>\n",
              "  <tbody>\n",
              "    <tr>\n",
              "      <th>0</th>\n",
              "      <td>1</td>\n",
              "      <td>B001E4KFG0</td>\n",
              "      <td>A3SGXH7AUHU8GW</td>\n",
              "      <td>delmartian</td>\n",
              "      <td>1</td>\n",
              "      <td>1</td>\n",
              "      <td>positive</td>\n",
              "      <td>1303862400</td>\n",
              "      <td>Good Quality Dog Food</td>\n",
              "      <td>I have bought several of the Vitality canned d...</td>\n",
              "    </tr>\n",
              "    <tr>\n",
              "      <th>1</th>\n",
              "      <td>2</td>\n",
              "      <td>B00813GRG4</td>\n",
              "      <td>A1D87F6ZCVE5NK</td>\n",
              "      <td>dll pa</td>\n",
              "      <td>0</td>\n",
              "      <td>0</td>\n",
              "      <td>negative</td>\n",
              "      <td>1346976000</td>\n",
              "      <td>Not as Advertised</td>\n",
              "      <td>Product arrived labeled as Jumbo Salted Peanut...</td>\n",
              "    </tr>\n",
              "    <tr>\n",
              "      <th>2</th>\n",
              "      <td>3</td>\n",
              "      <td>B000LQOCH0</td>\n",
              "      <td>ABXLMWJIXXAIN</td>\n",
              "      <td>Natalia Corres \"Natalia Corres\"</td>\n",
              "      <td>1</td>\n",
              "      <td>1</td>\n",
              "      <td>positive</td>\n",
              "      <td>1219017600</td>\n",
              "      <td>\"Delight\" says it all</td>\n",
              "      <td>This is a confection that has been around a fe...</td>\n",
              "    </tr>\n",
              "    <tr>\n",
              "      <th>3</th>\n",
              "      <td>4</td>\n",
              "      <td>B000UA0QIQ</td>\n",
              "      <td>A395BORC6FGVXV</td>\n",
              "      <td>Karl</td>\n",
              "      <td>3</td>\n",
              "      <td>3</td>\n",
              "      <td>negative</td>\n",
              "      <td>1307923200</td>\n",
              "      <td>Cough Medicine</td>\n",
              "      <td>If you are looking for the secret ingredient i...</td>\n",
              "    </tr>\n",
              "    <tr>\n",
              "      <th>4</th>\n",
              "      <td>5</td>\n",
              "      <td>B006K2ZZ7K</td>\n",
              "      <td>A1UQRSCLF8GW1T</td>\n",
              "      <td>Michael D. Bigham \"M. Wassir\"</td>\n",
              "      <td>0</td>\n",
              "      <td>0</td>\n",
              "      <td>positive</td>\n",
              "      <td>1350777600</td>\n",
              "      <td>Great taffy</td>\n",
              "      <td>Great taffy at a great price.  There was a wid...</td>\n",
              "    </tr>\n",
              "  </tbody>\n",
              "</table>\n",
              "</div>"
            ],
            "text/plain": [
              "   Id   ProductId          UserId                      ProfileName  \\\n",
              "0   1  B001E4KFG0  A3SGXH7AUHU8GW                       delmartian   \n",
              "1   2  B00813GRG4  A1D87F6ZCVE5NK                           dll pa   \n",
              "2   3  B000LQOCH0   ABXLMWJIXXAIN  Natalia Corres \"Natalia Corres\"   \n",
              "3   4  B000UA0QIQ  A395BORC6FGVXV                             Karl   \n",
              "4   5  B006K2ZZ7K  A1UQRSCLF8GW1T    Michael D. Bigham \"M. Wassir\"   \n",
              "\n",
              "   HelpfulnessNumerator  HelpfulnessDenominator     Score        Time  \\\n",
              "0                     1                       1  positive  1303862400   \n",
              "1                     0                       0  negative  1346976000   \n",
              "2                     1                       1  positive  1219017600   \n",
              "3                     3                       3  negative  1307923200   \n",
              "4                     0                       0  positive  1350777600   \n",
              "\n",
              "                 Summary                                               Text  \n",
              "0  Good Quality Dog Food  I have bought several of the Vitality canned d...  \n",
              "1      Not as Advertised  Product arrived labeled as Jumbo Salted Peanut...  \n",
              "2  \"Delight\" says it all  This is a confection that has been around a fe...  \n",
              "3         Cough Medicine  If you are looking for the secret ingredient i...  \n",
              "4            Great taffy  Great taffy at a great price.  There was a wid...  "
            ]
          },
          "metadata": {
            "tags": []
          },
          "execution_count": 4
        }
      ]
    },
    {
      "metadata": {
        "id": "F8ahXdBm9aLY",
        "colab_type": "text"
      },
      "cell_type": "markdown",
      "source": [
        "## Data Cleaning"
      ]
    },
    {
      "metadata": {
        "id": "GmwDDX4C9aLZ",
        "colab_type": "code",
        "colab": {},
        "outputId": "6e056697-7b49-4070-edb9-96ff8103aed6"
      },
      "cell_type": "code",
      "source": [
        "#sorting data a/c to ProductId in ascending order \n",
        "sorted_data=filter_data.sort_values('ProductId',axis=0,ascending=True,kind='quicksort')\n",
        "\n",
        "#drop duplicates\n",
        "final_data=sorted_data.drop_duplicates(subset={'UserId','ProfileName','Time','Text'},keep='first')\n",
        "final_data.shape"
      ],
      "execution_count": 0,
      "outputs": [
        {
          "output_type": "execute_result",
          "data": {
            "text/plain": [
              "(364173, 10)"
            ]
          },
          "metadata": {
            "tags": []
          },
          "execution_count": 5
        }
      ]
    },
    {
      "metadata": {
        "id": "SrYvr0bG9aLe",
        "colab_type": "code",
        "colab": {},
        "outputId": "d322da1a-9a06-4229-f4c1-215d2af74b26"
      },
      "cell_type": "code",
      "source": [
        "#percentage data left\n",
        "(final_data.size)/(filter_data.size)*100#percentage data left\n",
        "(final_data.size)/(filter_data.size)*100"
      ],
      "execution_count": 0,
      "outputs": [
        {
          "output_type": "execute_result",
          "data": {
            "text/plain": [
              "69.25890143662969"
            ]
          },
          "metadata": {
            "tags": []
          },
          "execution_count": 6
        }
      ]
    },
    {
      "metadata": {
        "id": "mJCN4IOi9aLj",
        "colab_type": "code",
        "colab": {},
        "outputId": "9fe75e6c-bfe0-4482-8f8e-6ecf735d0517"
      },
      "cell_type": "code",
      "source": [
        "final_data=final_data[final_data.HelpfulnessNumerator<=final_data.HelpfulnessDenominator]\n",
        "final_data.shape"
      ],
      "execution_count": 0,
      "outputs": [
        {
          "output_type": "execute_result",
          "data": {
            "text/plain": [
              "(364171, 10)"
            ]
          },
          "metadata": {
            "tags": []
          },
          "execution_count": 7
        }
      ]
    },
    {
      "metadata": {
        "id": "CHydbw7_9aLq",
        "colab_type": "code",
        "colab": {},
        "outputId": "a01932ea-f176-4db6-c00e-caf051c43fe9"
      },
      "cell_type": "code",
      "source": [
        "final_data['Score'].value_counts()"
      ],
      "execution_count": 0,
      "outputs": [
        {
          "output_type": "execute_result",
          "data": {
            "text/plain": [
              "positive    307061\n",
              "negative     57110\n",
              "Name: Score, dtype: int64"
            ]
          },
          "metadata": {
            "tags": []
          },
          "execution_count": 8
        }
      ]
    },
    {
      "metadata": {
        "id": "jmG1a2lt9aLy",
        "colab_type": "text"
      },
      "cell_type": "markdown",
      "source": [
        "## Text Processing"
      ]
    },
    {
      "metadata": {
        "id": "31pJUy4d9aLz",
        "colab_type": "code",
        "colab": {}
      },
      "cell_type": "code",
      "source": [
        "import re\n",
        "import string\n",
        "from nltk.corpus import stopwords\n",
        "from nltk.stem import PorterStemmer\n",
        "from nltk.stem.wordnet import WordNetLemmatizer\n"
      ],
      "execution_count": 0,
      "outputs": []
    },
    {
      "metadata": {
        "id": "9jQPda1L9aL4",
        "colab_type": "code",
        "colab": {},
        "outputId": "7a8d2086-96be-4ff5-acd4-cf845752e90e"
      },
      "cell_type": "code",
      "source": [
        "import nltk\n",
        "nltk.download('stopwords')"
      ],
      "execution_count": 0,
      "outputs": [
        {
          "output_type": "stream",
          "text": [
            "[nltk_data] Downloading package stopwords to\n",
            "[nltk_data]     C:\\Users\\sumit\\AppData\\Roaming\\nltk_data...\n",
            "[nltk_data]   Package stopwords is already up-to-date!\n"
          ],
          "name": "stdout"
        },
        {
          "output_type": "execute_result",
          "data": {
            "text/plain": [
              "True"
            ]
          },
          "metadata": {
            "tags": []
          },
          "execution_count": 10
        }
      ]
    },
    {
      "metadata": {
        "id": "YzCJPkNT9aL8",
        "colab_type": "code",
        "colab": {}
      },
      "cell_type": "code",
      "source": [
        "stop=set(stopwords.words('english'))\n",
        "sno=nltk.stem.SnowballStemmer('english')\n",
        "#cleaning HTML tags\n",
        "def cleanHtml(sentence):\n",
        "    cleanr=re.compile('<.*?>')\n",
        "    cleantext=re.sub(cleanr,' ',sentence)\n",
        "    return cleantext\n",
        "\n",
        "#cleaning punctuation\n",
        "def cleanpunc(sentence):\n",
        "    clean=re.sub(r'[?|!|\\'|\"|#]',r'',sentence)\n",
        "    cleaned = re.sub(r'[.|,|)|(|\\|/]',r' ',cleaned)\n",
        "    return  cleaned"
      ],
      "execution_count": 0,
      "outputs": []
    },
    {
      "metadata": {
        "id": "lqQ-fKv99aMA",
        "colab_type": "text"
      },
      "cell_type": "markdown",
      "source": [
        "## Bag OF Words(BoW)"
      ]
    },
    {
      "metadata": {
        "id": "VtfDSmM-9aMB",
        "colab_type": "code",
        "colab": {},
        "outputId": "a310e3db-aa4c-49aa-f08f-b9148eae22d9"
      },
      "cell_type": "code",
      "source": [
        "count_vector=CountVectorizer()\n",
        "final_count=count_vector.fit_transform(final_data['Text'][0:2000].values)\n",
        "bow_final=pd.DataFrame(final_count.toarray())\n",
        "bow_final.shape"
      ],
      "execution_count": 0,
      "outputs": [
        {
          "output_type": "execute_result",
          "data": {
            "text/plain": [
              "(2000, 10800)"
            ]
          },
          "metadata": {
            "tags": []
          },
          "execution_count": 12
        }
      ]
    },
    {
      "metadata": {
        "id": "cbOIs6ZP9aMG",
        "colab_type": "code",
        "colab": {}
      },
      "cell_type": "code",
      "source": [
        "#data standardizing\n",
        "from sklearn.preprocessing import StandardScaler\n",
        "stand_data=StandardScaler()\n",
        "labels=final_data['Score'].iloc[0:2000]\n",
        "#labels.shape"
      ],
      "execution_count": 0,
      "outputs": []
    },
    {
      "metadata": {
        "id": "WwLiQHac9aMM",
        "colab_type": "code",
        "colab": {}
      },
      "cell_type": "code",
      "source": [
        "stand_data=stand_data.fit_transform(bow_final)"
      ],
      "execution_count": 0,
      "outputs": []
    },
    {
      "metadata": {
        "id": "ayaxZIeU9aMU",
        "colab_type": "code",
        "colab": {},
        "outputId": "838d5385-0129-4ba6-c345-f707e3e1db6b"
      },
      "cell_type": "code",
      "source": [
        "from sklearn.manifold import TSNE\n",
        "model= TSNE(n_components=2, random_state=0 ,perplexity=30)\n",
        "tsne_data=model.fit_transform(bow_final)\n",
        "\n",
        "#plotting\n",
        "tsne_d=np.vstack((tsne_data.T,labels.T)).T\n",
        "tsne_d.shape"
      ],
      "execution_count": 0,
      "outputs": [
        {
          "output_type": "execute_result",
          "data": {
            "text/plain": [
              "(2000, 3)"
            ]
          },
          "metadata": {
            "tags": []
          },
          "execution_count": 15
        }
      ]
    },
    {
      "metadata": {
        "id": "6YP7AkB49aMd",
        "colab_type": "code",
        "colab": {}
      },
      "cell_type": "code",
      "source": [
        "tsne_df=pd.DataFrame(tsne_d, columns=('f 1','f 2','Score'))"
      ],
      "execution_count": 0,
      "outputs": []
    },
    {
      "metadata": {
        "id": "xKc24gdW9aMk",
        "colab_type": "code",
        "colab": {},
        "outputId": "9a98d26d-4f1f-4cd1-e43d-a597d4200c07"
      },
      "cell_type": "code",
      "source": [
        "sns.FacetGrid(tsne_df,hue=\"Score\", size=6).map(plt.scatter,'f 1','f 2').add_legend()\n",
        "plt.show()"
      ],
      "execution_count": 0,
      "outputs": [
        {
          "output_type": "display_data",
          "data": {
            "image/png": "[encoded data removed]",
            "text/plain": [
              "<Figure size 511.75x432 with 1 Axes>"
            ]
          },
          "metadata": {
            "tags": []
          }
        }
      ]
    },
    {
      "metadata": {
        "id": "VauVQp4_9aMp",
        "colab_type": "text"
      },
      "cell_type": "markdown",
      "source": [
        "## TF-IDF"
      ]
    },
    {
      "metadata": {
        "id": "EvzNM-cT9aMq",
        "colab_type": "code",
        "colab": {},
        "outputId": "0f2e4b4d-bc57-4d47-ae25-18e4b5493430"
      },
      "cell_type": "code",
      "source": [
        "tfidf_vect=TfidfVectorizer(ngram_range=(1,2))\n",
        "tfidf_count=tfidf_vect.fit_transform(final_data['Text'][0:2000].values)\n",
        "type(tfidf_count)"
      ],
      "execution_count": 0,
      "outputs": [
        {
          "output_type": "execute_result",
          "data": {
            "text/plain": [
              "scipy.sparse.csr.csr_matrix"
            ]
          },
          "metadata": {
            "tags": []
          },
          "execution_count": 18
        }
      ]
    },
    {
      "metadata": {
        "id": "mKiuuMVf9aMw",
        "colab_type": "code",
        "colab": {},
        "outputId": "4cf7d52c-45d7-4f86-fa92-c3f8894cfbb2"
      },
      "cell_type": "code",
      "source": [
        "tfidf_count.shape"
      ],
      "execution_count": 0,
      "outputs": [
        {
          "output_type": "execute_result",
          "data": {
            "text/plain": [
              "(2000, 98992)"
            ]
          },
          "metadata": {
            "tags": []
          },
          "execution_count": 19
        }
      ]
    },
    {
      "metadata": {
        "id": "9_dRNlko9aM6",
        "colab_type": "code",
        "colab": {}
      },
      "cell_type": "code",
      "source": [
        "tfidf_final=pd.DataFrame(tfidf_count.toarray())"
      ],
      "execution_count": 0,
      "outputs": []
    },
    {
      "metadata": {
        "id": "w1pfIvxj9aM_",
        "colab_type": "code",
        "colab": {}
      },
      "cell_type": "code",
      "source": [
        ""
      ],
      "execution_count": 0,
      "outputs": []
    },
    {
      "metadata": {
        "id": "JFjO_WJI9aNC",
        "colab_type": "code",
        "colab": {},
        "outputId": "073d3acd-479e-49a0-e874-a6d02b58bf82"
      },
      "cell_type": "code",
      "source": [
        "model1=TSNE(n_components=2, random_state=0, perplexity=30)\n",
        "tsne_data1=model1.fit_transform(tfidf_final)\n",
        "tsne_data1.shape"
      ],
      "execution_count": 0,
      "outputs": [
        {
          "output_type": "execute_result",
          "data": {
            "text/plain": [
              "(2000, 2)"
            ]
          },
          "metadata": {
            "tags": []
          },
          "execution_count": 21
        }
      ]
    },
    {
      "metadata": {
        "id": "bd3GqAsR9aNI",
        "colab_type": "code",
        "colab": {},
        "outputId": "133a37ec-3845-4a16-8970-0b126a942b99"
      },
      "cell_type": "code",
      "source": [
        "tsne_d1=np.vstack((tsne_data1.T,labels.T)).T\n",
        "tsne_d1.shape"
      ],
      "execution_count": 0,
      "outputs": [
        {
          "output_type": "execute_result",
          "data": {
            "text/plain": [
              "(2000, 3)"
            ]
          },
          "metadata": {
            "tags": []
          },
          "execution_count": 22
        }
      ]
    },
    {
      "metadata": {
        "id": "_pEFbAxc9aNL",
        "colab_type": "code",
        "colab": {}
      },
      "cell_type": "code",
      "source": [
        "tsne_df1=pd.DataFrame(tsne_d1, columns=('f 1','f 2','Score'))"
      ],
      "execution_count": 0,
      "outputs": []
    },
    {
      "metadata": {
        "id": "02tN3IdK9aNP",
        "colab_type": "code",
        "colab": {},
        "outputId": "583b73fc-2dd5-4711-cbdb-b4901707f5a0"
      },
      "cell_type": "code",
      "source": [
        "sns.FacetGrid(tsne_df1, hue='Score', size=6).map(plt.scatter, 'f 1','f 2').add_legend()\n",
        "plt.show()"
      ],
      "execution_count": 0,
      "outputs": [
        {
          "output_type": "display_data",
          "data": {
            "image/png": "[encoded data removed]",
            "text/plain": [
              "<Figure size 511.75x432 with 1 Axes>"
            ]
          },
          "metadata": {
            "tags": []
          }
        }
      ]
    },
    {
      "metadata": {
        "id": "TRwmYa349aNT",
        "colab_type": "text"
      },
      "cell_type": "markdown",
      "source": [
        "# Word2Vec"
      ]
    },
    {
      "metadata": {
        "id": "A0DxAeI49aNV",
        "colab_type": "code",
        "colab": {},
        "outputId": "35b59813-6b9f-4ddc-e5db-38fbb0e3b395"
      },
      "cell_type": "code",
      "source": [
        "import gensim\n",
        "from gensim.models import Word2Vec\n",
        "from gensim.models import KeyedVectors\n",
        "import pickle"
      ],
      "execution_count": 0,
      "outputs": [
        {
          "output_type": "stream",
          "text": [
            "C:\\Users\\sumit\\Anaconda3\\lib\\site-packages\\gensim\\utils.py:1197: UserWarning: detected Windows; aliasing chunkize to chunkize_serial\n",
            "  warnings.warn(\"detected Windows; aliasing chunkize to chunkize_serial\")\n"
          ],
          "name": "stderr"
        }
      ]
    },
    {
      "metadata": {
        "id": "zORl-kPB9aNZ",
        "colab_type": "code",
        "colab": {}
      },
      "cell_type": "code",
      "source": [
        "#Code for implementing step-by-step the checks mentioned in the pre-processing phase\n",
        "#training own w2v\n",
        "i=0\n",
        "final_string=[]\n",
        "for sent in final_data['Text'].values:\n",
        "    filtered_sent=[]\n",
        "    sent=cleanHtml(sent)\n",
        "    #print(sent)\n",
        "    for w in sent.split():\n",
        "        #print(w)\n",
        "        #for cleaned_word in cleanpunc(w).split():\n",
        "        if(w.isalpha()):\n",
        "            filtered_sent.append(w.lower())\n",
        "        else:\n",
        "            continue\n",
        "    final_string.append(filtered_sent)"
      ],
      "execution_count": 0,
      "outputs": []
    },
    {
      "metadata": {
        "id": "z-mwVrA69aNf",
        "colab_type": "code",
        "colab": {},
        "outputId": "56fae959-1be5-4edc-dcef-ca893a687422"
      },
      "cell_type": "code",
      "source": [
        "print(len(final_string))"
      ],
      "execution_count": 0,
      "outputs": [
        {
          "output_type": "stream",
          "text": [
            "364171\n"
          ],
          "name": "stdout"
        }
      ]
    },
    {
      "metadata": {
        "id": "ZDC2sPq_9aNm",
        "colab_type": "code",
        "colab": {}
      },
      "cell_type": "code",
      "source": [
        "w2v_model=Word2Vec(final_string, min_count=5, workers=4, size=50)\n",
        "#w2v_words=w2v_model.wv.vocab\n",
        "#print(len(w2v_words))"
      ],
      "execution_count": 0,
      "outputs": []
    },
    {
      "metadata": {
        "id": "IFRkllTh9aNp",
        "colab_type": "code",
        "colab": {},
        "outputId": "b8bda37f-4609-4929-9d7f-3b5e62a8d81f"
      },
      "cell_type": "code",
      "source": [
        "w2v_model.wv.most_similar('tasty')"
      ],
      "execution_count": 0,
      "outputs": [
        {
          "output_type": "execute_result",
          "data": {
            "text/plain": [
              "[('satisfying', 0.829119086265564),\n",
              " ('delicious', 0.8263711929321289),\n",
              " ('tastey', 0.8218954801559448),\n",
              " ('yummy', 0.8032213449478149),\n",
              " ('filling', 0.760448694229126),\n",
              " ('flavorful', 0.7600867748260498),\n",
              " ('nutritious', 0.7428008913993835),\n",
              " ('hearty', 0.7304298877716064),\n",
              " ('versatile', 0.7247272729873657),\n",
              " ('addictive', 0.7183544039726257)]"
            ]
          },
          "metadata": {
            "tags": []
          },
          "execution_count": 29
        }
      ]
    },
    {
      "metadata": {
        "id": "63cszKlz9aNt",
        "colab_type": "text"
      },
      "cell_type": "markdown",
      "source": [
        "## Avg W2V"
      ]
    },
    {
      "metadata": {
        "id": "ZIdRUNq59aNu",
        "colab_type": "code",
        "colab": {},
        "outputId": "50720a5a-e8b3-4ac4-ff6e-b0e221063a71"
      },
      "cell_type": "code",
      "source": [
        "sent_vectors=[]\n",
        "for sent in final_string:\n",
        "    sent_vect=np.zeros(50)\n",
        "    cnt_words=0\n",
        "    for word in sent:\n",
        "        #if word in w2v_words:\n",
        "        try:\n",
        "            vec=word2vec.model.wv[word]\n",
        "            sent_vect+=vec\n",
        "            cnt_words+=1\n",
        "        except:\n",
        "            pass\n",
        "   # if cnt_words!=0:\n",
        "    sent_vect /=cnt_words\n",
        "    sent_vectors.append(sent_vect)\n",
        "print(len(sent_vectors))\n",
        "print(len(sent_vectors[0]))"
      ],
      "execution_count": 0,
      "outputs": [
        {
          "output_type": "stream",
          "text": [
            "364171\n",
            "50\n"
          ],
          "name": "stdout"
        }
      ]
    },
    {
      "metadata": {
        "id": "5_88FA659aNz",
        "colab_type": "code",
        "colab": {},
        "outputId": "d83089ea-5159-4c4d-db22-7031fb5cfeb8"
      },
      "cell_type": "code",
      "source": [
        "w2v_final=pd.DataFrame(sent_vectors[0:2000])\n",
        "w2v_final.shape"
      ],
      "execution_count": 0,
      "outputs": [
        {
          "output_type": "execute_result",
          "data": {
            "text/plain": [
              "(2000, 50)"
            ]
          },
          "metadata": {
            "tags": []
          },
          "execution_count": 31
        }
      ]
    },
    {
      "metadata": {
        "id": "D15Jf_SX9aN3",
        "colab_type": "code",
        "colab": {}
      },
      "cell_type": "code",
      "source": [
        "w2v_fin=np.nan_to_num(w2v_final)"
      ],
      "execution_count": 0,
      "outputs": []
    },
    {
      "metadata": {
        "id": "K0cBPzg19aN-",
        "colab_type": "code",
        "colab": {}
      },
      "cell_type": "code",
      "source": [
        "std_data=StandardScaler()\n",
        "std_data=std_data.fit_transform(w2v_fin)"
      ],
      "execution_count": 0,
      "outputs": []
    },
    {
      "metadata": {
        "id": "Vb53dRl59aOD",
        "colab_type": "code",
        "colab": {},
        "outputId": "9cf852a9-4be4-431c-c211-12c0b89b2ecf"
      },
      "cell_type": "code",
      "source": [
        "model2=TSNE(n_components=2, random_state=0, perplexity=30)\n",
        "tsne_data2=model2.fit_transform(w2v_fin)\n",
        "tsne_data2.shape"
      ],
      "execution_count": 0,
      "outputs": [
        {
          "output_type": "execute_result",
          "data": {
            "text/plain": [
              "(2000, 2)"
            ]
          },
          "metadata": {
            "tags": []
          },
          "execution_count": 38
        }
      ]
    },
    {
      "metadata": {
        "id": "a3ioQNRR9aOK",
        "colab_type": "code",
        "colab": {},
        "outputId": "46630228-3ad5-4c91-9f74-9f635e1714cf"
      },
      "cell_type": "code",
      "source": [
        "tsne_d2=np.vstack((tsne_data2.T,labels.T)).T\n",
        "tsne_d2.shape"
      ],
      "execution_count": 0,
      "outputs": [
        {
          "output_type": "execute_result",
          "data": {
            "text/plain": [
              "(2000, 3)"
            ]
          },
          "metadata": {
            "tags": []
          },
          "execution_count": 39
        }
      ]
    },
    {
      "metadata": {
        "id": "_i5XjL-99aOS",
        "colab_type": "code",
        "colab": {}
      },
      "cell_type": "code",
      "source": [
        "tsne_df2=pd.DataFrame(tsne_d2, columns=('Dim1','Dim2','Score'))"
      ],
      "execution_count": 0,
      "outputs": []
    },
    {
      "metadata": {
        "id": "DHUSGwU29aOV",
        "colab_type": "code",
        "colab": {},
        "outputId": "a3275592-ef68-46b9-f08e-ee4cb922237f"
      },
      "cell_type": "code",
      "source": [
        "sns.FacetGrid(tsne_df2, hue='Score', size=6).map(plt.scatter,'Dim1','Dim2').add_legend()\n",
        "plt.show()"
      ],
      "execution_count": 0,
      "outputs": [
        {
          "output_type": "display_data",
          "data": {
            "image/png": "[encoded data removed]",
            "text/plain": [
              "<Figure size 511.75x432 with 1 Axes>"
            ]
          },
          "metadata": {
            "tags": []
          }
        }
      ]
    },
    {
      "metadata": {
        "id": "brnGsbfA9aOd",
        "colab_type": "text"
      },
      "cell_type": "markdown",
      "source": [
        "## TF-IDF W2V"
      ]
    },
    {
      "metadata": {
        "id": "P60hriZE9aOf",
        "colab_type": "code",
        "colab": {},
        "outputId": "e924ca81-213f-47f6-ea1e-9c83dc0dc112"
      },
      "cell_type": "code",
      "source": [
        "tfidf_feat=tfidf_vect.get_feature_names()\n",
        "tfidf_sent_vect=[]\n",
        "row=0\n",
        "for sent in final_string:\n",
        "   # print(sent)\n",
        "    sent_vect=np.zeros(50)\n",
        "    weight_sum=0\n",
        "    for word in sent:\n",
        "        #print(word)\n",
        "        #if word in w2v_words:\n",
        "        try:\n",
        "            vec=word2vec.model.wv[word]\n",
        "            tf_idf = tfidf_final[row, tfidf_feat.index(word)]\n",
        "            sent_vect += (vec * tf_idf)\n",
        "            weight_sum += tf_idf \n",
        "        except:\n",
        "            pass\n",
        "    #if weight_sum != 0:\n",
        "    sent_vect /= weight_sum\n",
        "    tfidf_sent_vect.append(sent_vect)\n",
        "    row += 1\n",
        "print(len(tfidf_sent_vect))"
      ],
      "execution_count": 0,
      "outputs": [
        {
          "output_type": "stream",
          "text": [
            "364171\n"
          ],
          "name": "stdout"
        }
      ]
    },
    {
      "metadata": {
        "id": "nrPdPV879aOj",
        "colab_type": "code",
        "colab": {},
        "outputId": "7b89798e-b836-484c-e815-9f2efe61a63d"
      },
      "cell_type": "code",
      "source": [
        "tfw2v_final=pd.DataFrame(tfidf_sent_vect[0:2000])\n",
        "tfw2v_final.shape"
      ],
      "execution_count": 0,
      "outputs": [
        {
          "output_type": "execute_result",
          "data": {
            "text/plain": [
              "(2000, 50)"
            ]
          },
          "metadata": {
            "tags": []
          },
          "execution_count": 43
        }
      ]
    },
    {
      "metadata": {
        "id": "vwLXYP_e9aOr",
        "colab_type": "code",
        "colab": {}
      },
      "cell_type": "code",
      "source": [
        "tfw2v_fin=np.nan_to_num(tfw2v_fin)"
      ],
      "execution_count": 0,
      "outputs": []
    },
    {
      "metadata": {
        "id": "zx_GoQY19aOw",
        "colab_type": "code",
        "colab": {}
      },
      "cell_type": "code",
      "source": [
        "std_data2=StandardScaler()\n",
        "std_data2=std_data2.fit_transform(tfw2v_fin)"
      ],
      "execution_count": 0,
      "outputs": []
    },
    {
      "metadata": {
        "id": "r4CNyGbm9aO3",
        "colab_type": "code",
        "colab": {}
      },
      "cell_type": "code",
      "source": [
        "model3=TSNE(n_components=2, random_state=0, perplexity=30)\n"
      ],
      "execution_count": 0,
      "outputs": []
    },
    {
      "metadata": {
        "id": "yYaVUCR29aO8",
        "colab_type": "code",
        "colab": {},
        "outputId": "4af77d13-51aa-4e63-ad1e-25f591d3a5ad"
      },
      "cell_type": "code",
      "source": [
        "tsne_data3=model3.fit_transform(std_data2)\n",
        "tsne_data3.shape"
      ],
      "execution_count": 0,
      "outputs": [
        {
          "output_type": "execute_result",
          "data": {
            "text/plain": [
              "(2000, 2)"
            ]
          },
          "metadata": {
            "tags": []
          },
          "execution_count": 53
        }
      ]
    },
    {
      "metadata": {
        "id": "fCpnySP19aPB",
        "colab_type": "code",
        "colab": {},
        "outputId": "9f827fc9-a2b4-4c28-def3-0beb9f6d6b43"
      },
      "cell_type": "code",
      "source": [
        "tsne_d3=np.vstack((tsne_data3.T,labels)).T\n",
        "tsne_d3.shape"
      ],
      "execution_count": 0,
      "outputs": [
        {
          "output_type": "execute_result",
          "data": {
            "text/plain": [
              "(2000, 3)"
            ]
          },
          "metadata": {
            "tags": []
          },
          "execution_count": 54
        }
      ]
    },
    {
      "metadata": {
        "id": "_4j-0aa29aPH",
        "colab_type": "code",
        "colab": {}
      },
      "cell_type": "code",
      "source": [
        "tsne_df3=pd.DataFrame(tsne_d2, columns=('f 1','f 2','Score'))"
      ],
      "execution_count": 0,
      "outputs": []
    },
    {
      "metadata": {
        "id": "p46YDPvt9aPN",
        "colab_type": "code",
        "colab": {},
        "outputId": "37759e87-df55-4bd7-aef3-36f8545fc8c7"
      },
      "cell_type": "code",
      "source": [
        "sns.FacetGrid(tsne_df3, hue='Score', size=6).map(plt.scatter,'f 1','f 2').add_legend()\n",
        "plt.show()"
      ],
      "execution_count": 0,
      "outputs": [
        {
          "output_type": "display_data",
          "data": {
            "image/png": "[encoded data removed]",
            "text/plain": [
              "<Figure size 511.75x432 with 1 Axes>"
            ]
          },
          "metadata": {
            "tags": []
          }
        }
      ]
    },
    {
      "metadata": {
        "id": "SxiOhkAk9aPW",
        "colab_type": "code",
        "colab": {}
      },
      "cell_type": "code",
      "source": [
        ""
      ],
      "execution_count": 0,
      "outputs": []
    },
    {
      "metadata": {
        "id": "5YMo0VjL9aPg",
        "colab_type": "code",
        "colab": {}
      },
      "cell_type": "code",
      "source": [
        ""
      ],
      "execution_count": 0,
      "outputs": []
    },
    {
      "metadata": {
        "id": "90e9Qo009aPj",
        "colab_type": "code",
        "colab": {}
      },
      "cell_type": "code",
      "source": [
        ""
      ],
      "execution_count": 0,
      "outputs": []
    },
    {
      "metadata": {
        "id": "a5Kwd4S19aPl",
        "colab_type": "code",
        "colab": {}
      },
      "cell_type": "code",
      "source": [
        ""
      ],
      "execution_count": 0,
      "outputs": []
    },
    {
      "metadata": {
        "id": "tIY2Pzry9aPn",
        "colab_type": "code",
        "colab": {}
      },
      "cell_type": "code",
      "source": [
        ""
      ],
      "execution_count": 0,
      "outputs": []
    },
    {
      "metadata": {
        "id": "NeQCn6v69aPq",
        "colab_type": "code",
        "colab": {}
      },
      "cell_type": "code",
      "source": [
        ""
      ],
      "execution_count": 0,
      "outputs": []
    },
    {
      "metadata": {
        "id": "Fvxf7W2t9aPt",
        "colab_type": "code",
        "colab": {}
      },
      "cell_type": "code",
      "source": [
        ""
      ],
      "execution_count": 0,
      "outputs": []
    },
    {
      "metadata": {
        "id": "YIlXeYHv9aPv",
        "colab_type": "code",
        "colab": {}
      },
      "cell_type": "code",
      "source": [
        ""
      ],
      "execution_count": 0,
      "outputs": []
    }
  ]
}